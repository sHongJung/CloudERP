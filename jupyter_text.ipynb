{
 "cells": [
  {
   "cell_type": "code",
   "execution_count": 7,
   "metadata": {},
   "outputs": [
    {
     "ename": "DatabaseError",
     "evalue": "Execution failed on sql 'DECLARE @sYYear char(4), @sYMonth char(2), @sYDay char(2) DECLARE @dDate as smalldatetime, @sDate char(10), @mDate Char(10), @sDateFM char(10), @sDateTO char(10) SET @sDateFM = CONVERT(CHAR(10), GETDATE(), 101) SET @sDateTO = CONVERT(CHAR(10), GETDATE() + 90, 101) SET @dDate = CONVERT(SMALLDATETIME, GETDATE() ) SET @sYYear = DATEPART(year,@dDate) SET @sYMonth = DATEPART(month,@dDate) SET @sYDay = DATEPART(day,@dDate) SET @sFrom = \"aqsreport@aqs-inc.com\" SELECT TOP 32 CONVERT(CHAR(10), CAST(YYYYMMDD AS SMALLDATETIME), 101) AS SBDATE, SHDAILY, SHACCU, BKDAILY, BKACCU, DAYOFWEEK, ISNULL(SHdailyUSNPI, 0)  AS SHdailyUSNPI,    ISNULL(SHAccuUSNPI, 0)   AS SHAccuUSNPI, ISNULL(SHdailyUSEMS, 0)    AS SHdailyUSEMS,   ISNULL(SHAccuUSEMS, 0) AS SHAccuUSEMS, ISNULL(SHdailyKR, 0)            AS SHdailyKR,          ISNULL(SHAccuKR, 0)         AS SHAccuKR, ISNULL(SHdailyChina, 0)        AS SHdailyChina,      ISNULL(SHAccuChina, 0)     AS SHAccuChina,  ISNULL(SHDailyOther, 0)        AS SHDailyOther,     ISNULL(SHAccuOther, 0)      AS SHAccuOther, ISNULL(SHDailyIntSales, 0)    AS SHDailyIntSales, ISNULL(SHAccuIntSales, 0)  AS SHAccuIntSales, ISNULL(BKDailyUS, 0)            AS BKDailyUS,         ISNULL(BKAccuUS, 0)          AS BKAccuUS, ISNULL(BKDailyKR, 0)            AS BKDailyKR,         ISNULL(BKAccuKR, 0)          AS BKAccuKR,    ISNULL(PASTDUE, 0)            AS PASTDUE,   ISNULL(NPIPAST,   0)            AS NPIPAST,  ISNULL(RMAPAST, 0)            AS RMAPAST, ISNULL(BOOKWITHIN90, 0)  AS BOOK90,            ISNULL(TOTALBOOK, 0)       AS TOTALBOOK  FROM  TE6050_HISTORY WHERE  LEFT(YYYYMMDD, 6) =   @sYYear + @sYMonth ORDER  BY SBDATE DESC': ('42000', '[42000] [Microsoft][ODBC Driver 13 for SQL Server][SQL Server]Must declare the scalar variable \"@sFrom\". (137) (SQLExecDirectW)')",
     "output_type": "error",
     "traceback": [
      "\u001b[1;31m---------------------------------------------------------------------------\u001b[0m",
      "\u001b[1;31mProgrammingError\u001b[0m                          Traceback (most recent call last)",
      "\u001b[1;32mC:\\ProgramData\\Anaconda3\\lib\\site-packages\\pandas\\io\\sql.py\u001b[0m in \u001b[0;36mexecute\u001b[1;34m(self, *args, **kwargs)\u001b[0m\n\u001b[0;32m   1377\u001b[0m             \u001b[1;32melse\u001b[0m\u001b[1;33m:\u001b[0m\u001b[1;33m\u001b[0m\u001b[0m\n\u001b[1;32m-> 1378\u001b[1;33m                 \u001b[0mcur\u001b[0m\u001b[1;33m.\u001b[0m\u001b[0mexecute\u001b[0m\u001b[1;33m(\u001b[0m\u001b[1;33m*\u001b[0m\u001b[0margs\u001b[0m\u001b[1;33m)\u001b[0m\u001b[1;33m\u001b[0m\u001b[0m\n\u001b[0m\u001b[0;32m   1379\u001b[0m             \u001b[1;32mreturn\u001b[0m \u001b[0mcur\u001b[0m\u001b[1;33m\u001b[0m\u001b[0m\n",
      "\u001b[1;31mProgrammingError\u001b[0m: ('42000', '[42000] [Microsoft][ODBC Driver 13 for SQL Server][SQL Server]Must declare the scalar variable \"@sFrom\". (137) (SQLExecDirectW)')",
      "\nDuring handling of the above exception, another exception occurred:\n",
      "\u001b[1;31mDatabaseError\u001b[0m                             Traceback (most recent call last)",
      "\u001b[1;32m<ipython-input-7-dfad132f6832>\u001b[0m in \u001b[0;36m<module>\u001b[1;34m\u001b[0m\n\u001b[0;32m     21\u001b[0m \u001b[0mpd\u001b[0m\u001b[1;33m.\u001b[0m\u001b[0mset_option\u001b[0m\u001b[1;33m(\u001b[0m\u001b[1;34m'display.width'\u001b[0m\u001b[1;33m,\u001b[0m \u001b[1;36m1000\u001b[0m\u001b[1;33m)\u001b[0m\u001b[1;33m\u001b[0m\u001b[0m\n\u001b[0;32m     22\u001b[0m \u001b[0mpd\u001b[0m\u001b[1;33m.\u001b[0m\u001b[0mset_option\u001b[0m\u001b[1;33m(\u001b[0m\u001b[1;34m'display.float_format'\u001b[0m\u001b[1;33m,\u001b[0m \u001b[1;34m'$ {:,.2f}'\u001b[0m\u001b[1;33m.\u001b[0m\u001b[0mformat\u001b[0m\u001b[1;33m)\u001b[0m\u001b[1;33m\u001b[0m\u001b[0m\n\u001b[1;32m---> 23\u001b[1;33m \u001b[0mdf\u001b[0m \u001b[1;33m=\u001b[0m \u001b[0mpd\u001b[0m\u001b[1;33m.\u001b[0m\u001b[0mread_sql\u001b[0m\u001b[1;33m(\u001b[0m\u001b[1;34m'DECLARE @sYYear char(4), @sYMonth char(2), @sYDay char(2) DECLARE @dDate as smalldatetime, @sDate char(10), @mDate Char(10), @sDateFM char(10), @sDateTO char(10) SET @sDateFM = CONVERT(CHAR(10), GETDATE(), 101) SET @sDateTO = CONVERT(CHAR(10), GETDATE() + 90, 101) SET @dDate = CONVERT(SMALLDATETIME, GETDATE() ) SET @sYYear = DATEPART(year,@dDate) SET @sYMonth = DATEPART(month,@dDate) SET @sYDay = DATEPART(day,@dDate) SET @sFrom = \"aqsreport@aqs-inc.com\" SELECT TOP 32 CONVERT(CHAR(10), CAST(YYYYMMDD AS SMALLDATETIME), 101) AS SBDATE, SHDAILY, SHACCU, BKDAILY, BKACCU, DAYOFWEEK, ISNULL(SHdailyUSNPI, 0)  AS SHdailyUSNPI,    ISNULL(SHAccuUSNPI, 0)   AS SHAccuUSNPI, ISNULL(SHdailyUSEMS, 0)    AS SHdailyUSEMS,   ISNULL(SHAccuUSEMS, 0) AS SHAccuUSEMS, ISNULL(SHdailyKR, 0)            AS SHdailyKR,          ISNULL(SHAccuKR, 0)         AS SHAccuKR, ISNULL(SHdailyChina, 0)        AS SHdailyChina,      ISNULL(SHAccuChina, 0)     AS SHAccuChina,  ISNULL(SHDailyOther, 0)        AS SHDailyOther,     ISNULL(SHAccuOther, 0)      AS SHAccuOther, ISNULL(SHDailyIntSales, 0)    AS SHDailyIntSales, ISNULL(SHAccuIntSales, 0)  AS SHAccuIntSales, ISNULL(BKDailyUS, 0)            AS BKDailyUS,         ISNULL(BKAccuUS, 0)          AS BKAccuUS, ISNULL(BKDailyKR, 0)            AS BKDailyKR,         ISNULL(BKAccuKR, 0)          AS BKAccuKR,    ISNULL(PASTDUE, 0)            AS PASTDUE,   ISNULL(NPIPAST,   0)            AS NPIPAST,  ISNULL(RMAPAST, 0)            AS RMAPAST, ISNULL(BOOKWITHIN90, 0)  AS BOOK90,            ISNULL(TOTALBOOK, 0)       AS TOTALBOOK  FROM  TE6050_HISTORY WHERE  LEFT(YYYYMMDD, 6) =   @sYYear + @sYMonth ORDER  BY SBDATE DESC'\u001b[0m\u001b[1;33m,\u001b[0m \u001b[0mcnxn\u001b[0m\u001b[1;33m)\u001b[0m\u001b[1;33m\u001b[0m\u001b[0m\n\u001b[0m\u001b[0;32m     24\u001b[0m \u001b[0mdf\u001b[0m\u001b[1;33m.\u001b[0m\u001b[0mstyle\u001b[0m\u001b[1;33m.\u001b[0m\u001b[0mset_properties\u001b[0m\u001b[1;33m(\u001b[0m\u001b[1;33m**\u001b[0m\u001b[1;33m{\u001b[0m\u001b[1;34m'text-align'\u001b[0m \u001b[1;33m:\u001b[0m\u001b[1;34m'right'\u001b[0m\u001b[1;33m}\u001b[0m\u001b[1;33m)\u001b[0m\u001b[1;33m\u001b[0m\u001b[0m\n\u001b[0;32m     25\u001b[0m \u001b[1;33m\u001b[0m\u001b[0m\n",
      "\u001b[1;32mC:\\ProgramData\\Anaconda3\\lib\\site-packages\\pandas\\io\\sql.py\u001b[0m in \u001b[0;36mread_sql\u001b[1;34m(sql, con, index_col, coerce_float, params, parse_dates, columns, chunksize)\u001b[0m\n\u001b[0;32m    379\u001b[0m             \u001b[0msql\u001b[0m\u001b[1;33m,\u001b[0m \u001b[0mindex_col\u001b[0m\u001b[1;33m=\u001b[0m\u001b[0mindex_col\u001b[0m\u001b[1;33m,\u001b[0m \u001b[0mparams\u001b[0m\u001b[1;33m=\u001b[0m\u001b[0mparams\u001b[0m\u001b[1;33m,\u001b[0m\u001b[1;33m\u001b[0m\u001b[0m\n\u001b[0;32m    380\u001b[0m             \u001b[0mcoerce_float\u001b[0m\u001b[1;33m=\u001b[0m\u001b[0mcoerce_float\u001b[0m\u001b[1;33m,\u001b[0m \u001b[0mparse_dates\u001b[0m\u001b[1;33m=\u001b[0m\u001b[0mparse_dates\u001b[0m\u001b[1;33m,\u001b[0m\u001b[1;33m\u001b[0m\u001b[0m\n\u001b[1;32m--> 381\u001b[1;33m             chunksize=chunksize)\n\u001b[0m\u001b[0;32m    382\u001b[0m \u001b[1;33m\u001b[0m\u001b[0m\n\u001b[0;32m    383\u001b[0m     \u001b[1;32mtry\u001b[0m\u001b[1;33m:\u001b[0m\u001b[1;33m\u001b[0m\u001b[0m\n",
      "\u001b[1;32mC:\\ProgramData\\Anaconda3\\lib\\site-packages\\pandas\\io\\sql.py\u001b[0m in \u001b[0;36mread_query\u001b[1;34m(self, sql, index_col, coerce_float, params, parse_dates, chunksize)\u001b[0m\n\u001b[0;32m   1411\u001b[0m \u001b[1;33m\u001b[0m\u001b[0m\n\u001b[0;32m   1412\u001b[0m         \u001b[0margs\u001b[0m \u001b[1;33m=\u001b[0m \u001b[0m_convert_params\u001b[0m\u001b[1;33m(\u001b[0m\u001b[0msql\u001b[0m\u001b[1;33m,\u001b[0m \u001b[0mparams\u001b[0m\u001b[1;33m)\u001b[0m\u001b[1;33m\u001b[0m\u001b[0m\n\u001b[1;32m-> 1413\u001b[1;33m         \u001b[0mcursor\u001b[0m \u001b[1;33m=\u001b[0m \u001b[0mself\u001b[0m\u001b[1;33m.\u001b[0m\u001b[0mexecute\u001b[0m\u001b[1;33m(\u001b[0m\u001b[1;33m*\u001b[0m\u001b[0margs\u001b[0m\u001b[1;33m)\u001b[0m\u001b[1;33m\u001b[0m\u001b[0m\n\u001b[0m\u001b[0;32m   1414\u001b[0m         \u001b[0mcolumns\u001b[0m \u001b[1;33m=\u001b[0m \u001b[1;33m[\u001b[0m\u001b[0mcol_desc\u001b[0m\u001b[1;33m[\u001b[0m\u001b[1;36m0\u001b[0m\u001b[1;33m]\u001b[0m \u001b[1;32mfor\u001b[0m \u001b[0mcol_desc\u001b[0m \u001b[1;32min\u001b[0m \u001b[0mcursor\u001b[0m\u001b[1;33m.\u001b[0m\u001b[0mdescription\u001b[0m\u001b[1;33m]\u001b[0m\u001b[1;33m\u001b[0m\u001b[0m\n\u001b[0;32m   1415\u001b[0m \u001b[1;33m\u001b[0m\u001b[0m\n",
      "\u001b[1;32mC:\\ProgramData\\Anaconda3\\lib\\site-packages\\pandas\\io\\sql.py\u001b[0m in \u001b[0;36mexecute\u001b[1;34m(self, *args, **kwargs)\u001b[0m\n\u001b[0;32m   1388\u001b[0m             ex = DatabaseError(\n\u001b[0;32m   1389\u001b[0m                 \"Execution failed on sql '%s': %s\" % (args[0], exc))\n\u001b[1;32m-> 1390\u001b[1;33m             \u001b[0mraise_with_traceback\u001b[0m\u001b[1;33m(\u001b[0m\u001b[0mex\u001b[0m\u001b[1;33m)\u001b[0m\u001b[1;33m\u001b[0m\u001b[0m\n\u001b[0m\u001b[0;32m   1391\u001b[0m \u001b[1;33m\u001b[0m\u001b[0m\n\u001b[0;32m   1392\u001b[0m     \u001b[1;33m@\u001b[0m\u001b[0mstaticmethod\u001b[0m\u001b[1;33m\u001b[0m\u001b[0m\n",
      "\u001b[1;32mC:\\ProgramData\\Anaconda3\\lib\\site-packages\\pandas\\compat\\__init__.py\u001b[0m in \u001b[0;36mraise_with_traceback\u001b[1;34m(exc, traceback)\u001b[0m\n\u001b[0;32m    402\u001b[0m         \u001b[1;32mif\u001b[0m \u001b[0mtraceback\u001b[0m \u001b[1;33m==\u001b[0m \u001b[0mEllipsis\u001b[0m\u001b[1;33m:\u001b[0m\u001b[1;33m\u001b[0m\u001b[0m\n\u001b[0;32m    403\u001b[0m             \u001b[0m_\u001b[0m\u001b[1;33m,\u001b[0m \u001b[0m_\u001b[0m\u001b[1;33m,\u001b[0m \u001b[0mtraceback\u001b[0m \u001b[1;33m=\u001b[0m \u001b[0msys\u001b[0m\u001b[1;33m.\u001b[0m\u001b[0mexc_info\u001b[0m\u001b[1;33m(\u001b[0m\u001b[1;33m)\u001b[0m\u001b[1;33m\u001b[0m\u001b[0m\n\u001b[1;32m--> 404\u001b[1;33m         \u001b[1;32mraise\u001b[0m \u001b[0mexc\u001b[0m\u001b[1;33m.\u001b[0m\u001b[0mwith_traceback\u001b[0m\u001b[1;33m(\u001b[0m\u001b[0mtraceback\u001b[0m\u001b[1;33m)\u001b[0m\u001b[1;33m\u001b[0m\u001b[0m\n\u001b[0m\u001b[0;32m    405\u001b[0m \u001b[1;32melse\u001b[0m\u001b[1;33m:\u001b[0m\u001b[1;33m\u001b[0m\u001b[0m\n\u001b[0;32m    406\u001b[0m     \u001b[1;31m# this version of raise is a syntax error in Python 3\u001b[0m\u001b[1;33m\u001b[0m\u001b[1;33m\u001b[0m\u001b[0m\n",
      "\u001b[1;32mC:\\ProgramData\\Anaconda3\\lib\\site-packages\\pandas\\io\\sql.py\u001b[0m in \u001b[0;36mexecute\u001b[1;34m(self, *args, **kwargs)\u001b[0m\n\u001b[0;32m   1376\u001b[0m                 \u001b[0mcur\u001b[0m\u001b[1;33m.\u001b[0m\u001b[0mexecute\u001b[0m\u001b[1;33m(\u001b[0m\u001b[1;33m*\u001b[0m\u001b[0margs\u001b[0m\u001b[1;33m,\u001b[0m \u001b[1;33m**\u001b[0m\u001b[0mkwargs\u001b[0m\u001b[1;33m)\u001b[0m\u001b[1;33m\u001b[0m\u001b[0m\n\u001b[0;32m   1377\u001b[0m             \u001b[1;32melse\u001b[0m\u001b[1;33m:\u001b[0m\u001b[1;33m\u001b[0m\u001b[0m\n\u001b[1;32m-> 1378\u001b[1;33m                 \u001b[0mcur\u001b[0m\u001b[1;33m.\u001b[0m\u001b[0mexecute\u001b[0m\u001b[1;33m(\u001b[0m\u001b[1;33m*\u001b[0m\u001b[0margs\u001b[0m\u001b[1;33m)\u001b[0m\u001b[1;33m\u001b[0m\u001b[0m\n\u001b[0m\u001b[0;32m   1379\u001b[0m             \u001b[1;32mreturn\u001b[0m \u001b[0mcur\u001b[0m\u001b[1;33m\u001b[0m\u001b[0m\n\u001b[0;32m   1380\u001b[0m         \u001b[1;32mexcept\u001b[0m \u001b[0mException\u001b[0m \u001b[1;32mas\u001b[0m \u001b[0mexc\u001b[0m\u001b[1;33m:\u001b[0m\u001b[1;33m\u001b[0m\u001b[0m\n",
      "\u001b[1;31mDatabaseError\u001b[0m: Execution failed on sql 'DECLARE @sYYear char(4), @sYMonth char(2), @sYDay char(2) DECLARE @dDate as smalldatetime, @sDate char(10), @mDate Char(10), @sDateFM char(10), @sDateTO char(10) SET @sDateFM = CONVERT(CHAR(10), GETDATE(), 101) SET @sDateTO = CONVERT(CHAR(10), GETDATE() + 90, 101) SET @dDate = CONVERT(SMALLDATETIME, GETDATE() ) SET @sYYear = DATEPART(year,@dDate) SET @sYMonth = DATEPART(month,@dDate) SET @sYDay = DATEPART(day,@dDate) SET @sFrom = \"aqsreport@aqs-inc.com\" SELECT TOP 32 CONVERT(CHAR(10), CAST(YYYYMMDD AS SMALLDATETIME), 101) AS SBDATE, SHDAILY, SHACCU, BKDAILY, BKACCU, DAYOFWEEK, ISNULL(SHdailyUSNPI, 0)  AS SHdailyUSNPI,    ISNULL(SHAccuUSNPI, 0)   AS SHAccuUSNPI, ISNULL(SHdailyUSEMS, 0)    AS SHdailyUSEMS,   ISNULL(SHAccuUSEMS, 0) AS SHAccuUSEMS, ISNULL(SHdailyKR, 0)            AS SHdailyKR,          ISNULL(SHAccuKR, 0)         AS SHAccuKR, ISNULL(SHdailyChina, 0)        AS SHdailyChina,      ISNULL(SHAccuChina, 0)     AS SHAccuChina,  ISNULL(SHDailyOther, 0)        AS SHDailyOther,     ISNULL(SHAccuOther, 0)      AS SHAccuOther, ISNULL(SHDailyIntSales, 0)    AS SHDailyIntSales, ISNULL(SHAccuIntSales, 0)  AS SHAccuIntSales, ISNULL(BKDailyUS, 0)            AS BKDailyUS,         ISNULL(BKAccuUS, 0)          AS BKAccuUS, ISNULL(BKDailyKR, 0)            AS BKDailyKR,         ISNULL(BKAccuKR, 0)          AS BKAccuKR,    ISNULL(PASTDUE, 0)            AS PASTDUE,   ISNULL(NPIPAST,   0)            AS NPIPAST,  ISNULL(RMAPAST, 0)            AS RMAPAST, ISNULL(BOOKWITHIN90, 0)  AS BOOK90,            ISNULL(TOTALBOOK, 0)       AS TOTALBOOK  FROM  TE6050_HISTORY WHERE  LEFT(YYYYMMDD, 6) =   @sYYear + @sYMonth ORDER  BY SBDATE DESC': ('42000', '[42000] [Microsoft][ODBC Driver 13 for SQL Server][SQL Server]Must declare the scalar variable \"@sFrom\". (137) (SQLExecDirectW)')"
     ]
    }
   ],
   "source": [
    "import sys\n",
    "import pyodbc\n",
    "import db_config as cf\n",
    "import pandas as pd\n",
    "from IPython.display import display, HTML\n",
    "import smtplib\n",
    "from email.mime.multipart import MIMEMultipart\n",
    "from email.mime.text import MIMEText\n",
    "\n",
    "server_name = cf.DATABASE_CONFIG['server_name']\n",
    "db_name = cf.DATABASE_CONFIG['db_name']\n",
    "uid = cf.DATABASE_CONFIG['user']\n",
    "pwd = cf.DATABASE_CONFIG['password']\n",
    "driver = '{ODBC Driver 13 for SQL Server}'\n",
    "mailto = cf.MAIL_CONFIG['mail_id']\n",
    "mailpw = cf.MAIL_CONFIG['mail_pw']\n",
    "\n",
    "cnxn = pyodbc.connect('DRIVER='+driver+';SERVER='+server_name+';PORT=1433;DATABASE='+db_name+';UID='+uid+';PWD='+ pwd)\n",
    "\n",
    "pd.set_option('display.max_columns', 100)\n",
    "pd.set_option('display.width', 1000)\n",
    "pd.set_option('display.float_format', '$ {:,.2f}'.format)\n",
    "df = pd.read_sql('DECLARE @sYYear char(4), @sYMonth char(2), @sYDay char(2) DECLARE @dDate as smalldatetime, @sDate char(10), @mDate Char(10), @sDateFM char(10), @sDateTO char(10) SET @sDateFM = CONVERT(CHAR(10), GETDATE(), 101) SET @sDateTO = CONVERT(CHAR(10), GETDATE() + 90, 101) SET @dDate = CONVERT(SMALLDATETIME, GETDATE() ) SET @sYYear = DATEPART(year,@dDate) SET @sYMonth = DATEPART(month,@dDate) SET @sYDay = DATEPART(day,@dDate) SET @sFrom = \"aqsreport@aqs-inc.com\" SELECT TOP 32 CONVERT(CHAR(10), CAST(YYYYMMDD AS SMALLDATETIME), 101) AS SBDATE, SHDAILY, SHACCU, BKDAILY, BKACCU, DAYOFWEEK, ISNULL(SHdailyUSNPI, 0)  AS SHdailyUSNPI,    ISNULL(SHAccuUSNPI, 0)   AS SHAccuUSNPI, ISNULL(SHdailyUSEMS, 0)    AS SHdailyUSEMS,   ISNULL(SHAccuUSEMS, 0) AS SHAccuUSEMS, ISNULL(SHdailyKR, 0)            AS SHdailyKR,          ISNULL(SHAccuKR, 0)         AS SHAccuKR, ISNULL(SHdailyChina, 0)        AS SHdailyChina,      ISNULL(SHAccuChina, 0)     AS SHAccuChina,  ISNULL(SHDailyOther, 0)        AS SHDailyOther,     ISNULL(SHAccuOther, 0)      AS SHAccuOther, ISNULL(SHDailyIntSales, 0)    AS SHDailyIntSales, ISNULL(SHAccuIntSales, 0)  AS SHAccuIntSales, ISNULL(BKDailyUS, 0)            AS BKDailyUS,         ISNULL(BKAccuUS, 0)          AS BKAccuUS, ISNULL(BKDailyKR, 0)            AS BKDailyKR,         ISNULL(BKAccuKR, 0)          AS BKAccuKR,    ISNULL(PASTDUE, 0)            AS PASTDUE,   ISNULL(NPIPAST,   0)            AS NPIPAST,  ISNULL(RMAPAST, 0)            AS RMAPAST, ISNULL(BOOKWITHIN90, 0)  AS BOOK90,            ISNULL(TOTALBOOK, 0)       AS TOTALBOOK  FROM  TE6050_HISTORY WHERE  LEFT(YYYYMMDD, 6) =   @sYYear + @sYMonth ORDER  BY SBDATE DESC', cnxn)\n",
    "df.style.set_properties(**{'text-align' :'right'})\n",
    "\n",
    "display(df)"
   ]
  },
  {
   "cell_type": "code",
   "execution_count": null,
   "metadata": {},
   "outputs": [],
   "source": []
  }
 ],
 "metadata": {
  "kernelspec": {
   "display_name": "Python 3",
   "language": "python",
   "name": "python3"
  },
  "language_info": {
   "codemirror_mode": {
    "name": "ipython",
    "version": 3
   },
   "file_extension": ".py",
   "mimetype": "text/x-python",
   "name": "python",
   "nbconvert_exporter": "python",
   "pygments_lexer": "ipython3",
   "version": "3.7.0"
  }
 },
 "nbformat": 4,
 "nbformat_minor": 2
}
